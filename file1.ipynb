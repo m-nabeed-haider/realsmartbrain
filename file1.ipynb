{
 "cells": [
  {
   "cell_type": "code",
   "execution_count": 6,
   "metadata": {},
   "outputs": [
    {
     "name": "stdout",
     "output_type": "stream",
     "text": [
      "common iguana : 47.0019\n",
      "American alligator : 32.1233\n",
      "triceratops : 9.9208\n",
      "frilled lizard : 6.3106\n",
      "African crocodile : 0.3448\n"
     ]
    },
    {
     "data": {
      "text/plain": [
       "'\\nfrom imageai.Prediction import ImagePrediction\\nimport os\\nexecution_path=os.getcwd()\\n \\nprediction = ImagePrediction()\\nprediction.setModelTypeAsSqueezeNet()\\nprediction.setModelPath(os.path.join(execution_path, \"squeezenet_weights_tf_dim_ordering_tf_kernels.h5\"))\\nprediction.loadModel()\\n \\npredictions, probabilities = prediction.predictImage(os.path.join(execution_path, \"giraffe.jpg\"), result_count=5 )\\nfor eachPrediction, eachProbability in zip(predictions, probabilities):\\n    print(eachPrediction , \" : \" , eachProbability)'"
      ]
     },
     "execution_count": 6,
     "metadata": {},
     "output_type": "execute_result"
    }
   ],
   "source": [
    "# Image Detection using AI Model -> imageai\n",
    "\n",
    "\n",
    "# New Version:\n",
    "\n",
    "\n",
    "# imageai.Prediction no longer exists, replaced by imageai.Classification\n",
    "from imageai.Classification import ImageClassification\n",
    "import os\n",
    " \n",
    "exec_path = os.getcwd()\n",
    " \n",
    "prediction = ImageClassification()\n",
    "# SqueezeNet model also no longer exists, now the fastest is MobileNetV2\n",
    "\n",
    "# setting up the model and its path\n",
    "prediction.setModelTypeAsMobileNetV2()\n",
    "\n",
    "\n",
    "prediction.setModelPath(os.path.join(exec_path, 'mobilenet_v2-b0353104.pth'))\n",
    "# Loading model\n",
    "prediction.loadModel()\n",
    " \n",
    "# Getting highest 5 predictions of the given image\n",
    "\n",
    "predctions, probabilities = prediction.classifyImage(os.path.join(exec_path,'godzilla.jpg'), result_count=5)\n",
    "for eachPred, eachProb in zip(predctions, probabilities):\n",
    "    print(f'{eachPred} : {eachProb}')\n",
    " \n",
    " \n",
    " \n",
    " \n",
    "# --------------------------------------------------------------------\n",
    "\n",
    "# Old Version:\n",
    "'''\n",
    "from imageai.Prediction import ImagePrediction\n",
    "import os\n",
    "execution_path=os.getcwd()\n",
    " \n",
    "prediction = ImagePrediction()\n",
    "prediction.setModelTypeAsSqueezeNet()\n",
    "prediction.setModelPath(os.path.join(execution_path, \"squeezenet_weights_tf_dim_ordering_tf_kernels.h5\"))\n",
    "prediction.loadModel()\n",
    " \n",
    "predictions, probabilities = prediction.predictImage(os.path.join(execution_path, \"giraffe.jpg\"), result_count=5 )\n",
    "for eachPrediction, eachProbability in zip(predictions, probabilities):\n",
    "    print(eachPrediction , \" : \" , eachProbability)'''"
   ]
  },
  {
   "cell_type": "code",
   "execution_count": 1,
   "metadata": {},
   "outputs": [
    {
     "name": "stdout",
     "output_type": "stream",
     "text": [
      "1.26.4\n"
     ]
    }
   ],
   "source": [
    "import numpy as np\n",
    "print(np.__version__)"
   ]
  }
 ],
 "metadata": {
  "kernelspec": {
   "display_name": "Python 3",
   "language": "python",
   "name": "python3"
  },
  "language_info": {
   "codemirror_mode": {
    "name": "ipython",
    "version": 3
   },
   "file_extension": ".py",
   "mimetype": "text/x-python",
   "name": "python",
   "nbconvert_exporter": "python",
   "pygments_lexer": "ipython3",
   "version": "3.12.1"
  }
 },
 "nbformat": 4,
 "nbformat_minor": 2
}
